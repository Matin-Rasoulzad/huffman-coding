{
 "cells": [
  {
   "cell_type": "code",
   "execution_count": 1,
   "id": "4c33c53c-5ee7-4668-ba2f-6f53f1c0d16b",
   "metadata": {},
   "outputs": [],
   "source": [
    "class Node:\n",
    "    def __init__(self, data):\n",
    "        self.data = data\n",
    "        self.next = None\n",
    "        self.prev = None\n"
   ]
  },
  {
   "cell_type": "code",
   "execution_count": 39,
   "id": "d8c4bf0c-dfd2-4bec-8f4c-a1c73ab4c01a",
   "metadata": {},
   "outputs": [],
   "source": [
    "class Doubly_Linked_List:\n",
    "    def __init__(self):\n",
    "        self.head = None\n",
    "\n",
    "    def add_Node(self, data):\n",
    "        new_node = Node(data)\n",
    "\n",
    "        if not self.head:\n",
    "            self.head = new_node\n",
    "        else:\n",
    "            current = self.head\n",
    "            while current.next:\n",
    "                current = current.next\n",
    "\n",
    "            current.next = new_node\n",
    "            new_node.prev = current\n",
    "\n",
    "\n",
    "    def remove_node(self, data):\n",
    "        if not self.head:\n",
    "            raise Exception('the list is empty')\n",
    "\n",
    "        else:\n",
    "            current = self.head\n",
    "            while not current.data == data:\n",
    "                if current.next == None:\n",
    "                    return \"not found\"\n",
    "                current = current.next\n",
    "\n",
    "            current.prev.next = current.next\n",
    "            current.next.prev = current.prev\n",
    "\n",
    "\n",
    "    def show(self):\n",
    "        current = self.head\n",
    "\n",
    "        while current:\n",
    "            print(current.data , \" <-> \")\n",
    "            current = current.next\n",
    "\n",
    "        print(\"None\")\n",
    "\n",
    "        \n",
    "                \n",
    "                "
   ]
  },
  {
   "cell_type": "code",
   "execution_count": 41,
   "id": "f3bc10c8-33f2-4990-b1f5-f46fd3f27d1a",
   "metadata": {},
   "outputs": [
    {
     "ename": "Exception",
     "evalue": "the list is empty",
     "output_type": "error",
     "traceback": [
      "\u001b[0;31m---------------------------------------------------------------------------\u001b[0m",
      "\u001b[0;31mException\u001b[0m                                 Traceback (most recent call last)",
      "Cell \u001b[0;32mIn[41], line 3\u001b[0m\n\u001b[1;32m      1\u001b[0m LL \u001b[38;5;241m=\u001b[39m Doubly_Linked_List()\n\u001b[0;32m----> 3\u001b[0m \u001b[43mLL\u001b[49m\u001b[38;5;241;43m.\u001b[39;49m\u001b[43mremove_node\u001b[49m\u001b[43m(\u001b[49m\u001b[38;5;241;43m12\u001b[39;49m\u001b[43m)\u001b[49m\n",
      "Cell \u001b[0;32mIn[39], line 21\u001b[0m, in \u001b[0;36mDoubly_Linked_List.remove_node\u001b[0;34m(self, data)\u001b[0m\n\u001b[1;32m     19\u001b[0m \u001b[38;5;28;01mdef\u001b[39;00m \u001b[38;5;21mremove_node\u001b[39m(\u001b[38;5;28mself\u001b[39m, data):\n\u001b[1;32m     20\u001b[0m     \u001b[38;5;28;01mif\u001b[39;00m \u001b[38;5;129;01mnot\u001b[39;00m \u001b[38;5;28mself\u001b[39m\u001b[38;5;241m.\u001b[39mhead:\n\u001b[0;32m---> 21\u001b[0m         \u001b[38;5;28;01mraise\u001b[39;00m \u001b[38;5;167;01mException\u001b[39;00m(\u001b[38;5;124m'\u001b[39m\u001b[38;5;124mthe list is empty\u001b[39m\u001b[38;5;124m'\u001b[39m)\n\u001b[1;32m     23\u001b[0m     \u001b[38;5;28;01melse\u001b[39;00m:\n\u001b[1;32m     24\u001b[0m         current \u001b[38;5;241m=\u001b[39m \u001b[38;5;28mself\u001b[39m\u001b[38;5;241m.\u001b[39mhead\n",
      "\u001b[0;31mException\u001b[0m: the list is empty"
     ]
    }
   ],
   "source": [
    "LL = Doubly_Linked_List()\n",
    "\n",
    "LL.remove_node(12)\n"
   ]
  },
  {
   "cell_type": "code",
   "execution_count": 43,
   "id": "43f45a9a-e87c-42ba-a6be-f8c03737870e",
   "metadata": {},
   "outputs": [
    {
     "name": "stdout",
     "output_type": "stream",
     "text": [
      "1  <-> \n",
      "2  <-> \n",
      "3  <-> \n",
      "4  <-> \n",
      "5  <-> \n",
      "None\n"
     ]
    }
   ],
   "source": [
    "LL.add_Node(1)\n",
    "LL.add_Node(2)\n",
    "LL.add_Node(3)\n",
    "LL.add_Node(4)\n",
    "LL.add_Node(5)\n",
    "LL.show()"
   ]
  },
  {
   "cell_type": "code",
   "execution_count": 21,
   "id": "33db7769-ccf5-4828-a3fb-e1864f57b9ea",
   "metadata": {},
   "outputs": [],
   "source": [
    "LL.remove_node(3)"
   ]
  },
  {
   "cell_type": "code",
   "execution_count": 23,
   "id": "ee21360a-18be-41e9-93cb-96b97997212b",
   "metadata": {},
   "outputs": [
    {
     "name": "stdout",
     "output_type": "stream",
     "text": [
      "1  <-> \n",
      "2  <-> \n",
      "4  <-> \n",
      "5  <-> \n",
      "None\n"
     ]
    }
   ],
   "source": [
    "LL.show()"
   ]
  },
  {
   "cell_type": "code",
   "execution_count": null,
   "id": "328ae76b-0c3b-43db-9c53-2d7fc29abc16",
   "metadata": {},
   "outputs": [],
   "source": []
  }
 ],
 "metadata": {
  "kernelspec": {
   "display_name": "anaconda-2024.02-py310",
   "language": "python",
   "name": "conda-env-anaconda-2024.02-py310-py"
  },
  "language_info": {
   "codemirror_mode": {
    "name": "ipython",
    "version": 3
   },
   "file_extension": ".py",
   "mimetype": "text/x-python",
   "name": "python",
   "nbconvert_exporter": "python",
   "pygments_lexer": "ipython3",
   "version": "3.10.14"
  }
 },
 "nbformat": 4,
 "nbformat_minor": 5
}
